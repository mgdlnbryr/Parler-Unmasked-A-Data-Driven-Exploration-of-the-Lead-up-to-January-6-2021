{
 "cells": [
  {
   "cell_type": "code",
   "execution_count": 1,
   "id": "97ff518c-e7f3-4c68-81df-0f9c35b73a60",
   "metadata": {},
   "outputs": [
    {
     "data": {
      "text/html": [
       "<div>\n",
       "<style scoped>\n",
       "    .dataframe tbody tr th:only-of-type {\n",
       "        vertical-align: middle;\n",
       "    }\n",
       "\n",
       "    .dataframe tbody tr th {\n",
       "        vertical-align: top;\n",
       "    }\n",
       "\n",
       "    .dataframe thead th {\n",
       "        text-align: right;\n",
       "    }\n",
       "</style>\n",
       "<table border=\"1\" class=\"dataframe\">\n",
       "  <thead>\n",
       "    <tr style=\"text-align: right;\">\n",
       "      <th></th>\n",
       "      <th>author_name</th>\n",
       "      <th>author_username</th>\n",
       "      <th>author_profile_photo</th>\n",
       "      <th>post_text</th>\n",
       "      <th>post_image</th>\n",
       "      <th>post_timestamp</th>\n",
       "      <th>post_impressions</th>\n",
       "    </tr>\n",
       "  </thead>\n",
       "  <tbody>\n",
       "    <tr>\n",
       "      <th>0</th>\n",
       "      <td>Andy Ngo</td>\n",
       "      <td>@AndyNgo</td>\n",
       "      <td>https://images.parler.com/777e039d6a5341388549...</td>\n",
       "      <td>philadelphia police charged in relation to an ...</td>\n",
       "      <td>https://api.parler.com/l/GJCyQ</td>\n",
       "      <td>5</td>\n",
       "      <td>132117.0</td>\n",
       "    </tr>\n",
       "    <tr>\n",
       "      <th>1</th>\n",
       "      <td>Bill Kays</td>\n",
       "      <td>@rebootbill</td>\n",
       "      <td>https://images.parler.com/706f1c9d8b454b5f8108...</td>\n",
       "      <td>NaN</td>\n",
       "      <td>NaN</td>\n",
       "      <td>4</td>\n",
       "      <td>13.0</td>\n",
       "    </tr>\n",
       "    <tr>\n",
       "      <th>2</th>\n",
       "      <td>Flint Bedrock</td>\n",
       "      <td>@flintbedrock</td>\n",
       "      <td>https://images.parler.com/1f45e69f8ed145f9b7b0...</td>\n",
       "      <td>patriots in dc are ready for tomorrow</td>\n",
       "      <td>NaN</td>\n",
       "      <td>5</td>\n",
       "      <td>248971.0</td>\n",
       "    </tr>\n",
       "    <tr>\n",
       "      <th>3</th>\n",
       "      <td>Name Hidden</td>\n",
       "      <td>@Private User</td>\n",
       "      <td>../../company-media.parler.com/par-default-pro...</td>\n",
       "      <td>let s follow each other</td>\n",
       "      <td>https://api.parler.com/l/jB7Lz</td>\n",
       "      <td>5</td>\n",
       "      <td>9829.0</td>\n",
       "    </tr>\n",
       "    <tr>\n",
       "      <th>4</th>\n",
       "      <td>Name Hidden</td>\n",
       "      <td>@Private User</td>\n",
       "      <td>../../company-media.parler.com/par-default-pro...</td>\n",
       "      <td>NaN</td>\n",
       "      <td>../../api.parler.com/l/6Ac5M.html</td>\n",
       "      <td>5</td>\n",
       "      <td>15689.0</td>\n",
       "    </tr>\n",
       "  </tbody>\n",
       "</table>\n",
       "</div>"
      ],
      "text/plain": [
       "     author_name author_username  \\\n",
       "0       Andy Ngo        @AndyNgo   \n",
       "1      Bill Kays     @rebootbill   \n",
       "2  Flint Bedrock   @flintbedrock   \n",
       "3    Name Hidden   @Private User   \n",
       "4    Name Hidden   @Private User   \n",
       "\n",
       "                                author_profile_photo  \\\n",
       "0  https://images.parler.com/777e039d6a5341388549...   \n",
       "1  https://images.parler.com/706f1c9d8b454b5f8108...   \n",
       "2  https://images.parler.com/1f45e69f8ed145f9b7b0...   \n",
       "3  ../../company-media.parler.com/par-default-pro...   \n",
       "4  ../../company-media.parler.com/par-default-pro...   \n",
       "\n",
       "                                           post_text  \\\n",
       "0  philadelphia police charged in relation to an ...   \n",
       "1                                                NaN   \n",
       "2              patriots in dc are ready for tomorrow   \n",
       "3                            let s follow each other   \n",
       "4                                                NaN   \n",
       "\n",
       "                          post_image  post_timestamp  post_impressions  \n",
       "0     https://api.parler.com/l/GJCyQ               5          132117.0  \n",
       "1                                NaN               4              13.0  \n",
       "2                                NaN               5          248971.0  \n",
       "3     https://api.parler.com/l/jB7Lz               5            9829.0  \n",
       "4  ../../api.parler.com/l/6Ac5M.html               5           15689.0  "
      ]
     },
     "execution_count": 1,
     "metadata": {},
     "output_type": "execute_result"
    }
   ],
   "source": [
    "import pandas as pd\n",
    "\n",
    "# Loading the cleaned dataset\n",
    "file_path = \"../../data/cleaned/cleaned_dataset.csv\"\n",
    "cleaned_data = pd.read_csv(file_path)\n",
    "\n",
    "# Displaying the first few rows of the cleaned dataset\n",
    "cleaned_data.head()"
   ]
  },
  {
   "cell_type": "raw",
   "id": "15eaf816-0cea-4a37-ada7-b081ffe35757",
   "metadata": {},
   "source": [
    "1. Total Number of Unique Authors and Total Number of Posts"
   ]
  },
  {
   "cell_type": "code",
   "execution_count": 2,
   "id": "c9c5eeca-358f-43a3-b500-8e6915c9756c",
   "metadata": {},
   "outputs": [
    {
     "data": {
      "text/plain": [
       "(27520, 325942)"
      ]
     },
     "execution_count": 2,
     "metadata": {},
     "output_type": "execute_result"
    }
   ],
   "source": [
    "# Calculating the total number of unique authors\n",
    "unique_authors = cleaned_data['author_username'].nunique()\n",
    "\n",
    "# Calculating the total number of posts\n",
    "total_posts = cleaned_data.shape[0]\n",
    "\n",
    "unique_authors, total_posts"
   ]
  },
  {
   "cell_type": "raw",
   "id": "33306da8-f669-4fef-ac06-3be9c126d90b",
   "metadata": {},
   "source": [
    "2. Total Number of Posts and Distribut"
   ]
  },
  {
   "cell_type": "code",
   "execution_count": 3,
   "id": "6a883d95-1fea-4da2-81ee-2590b7c9fe7c",
   "metadata": {},
   "outputs": [
    {
     "data": {
      "text/plain": [
       "(4, 730)"
      ]
     },
     "execution_count": 3,
     "metadata": {},
     "output_type": "execute_result"
    }
   ],
   "source": [
    "# Finding the earliest and latest post timestamps in terms of number of days\n",
    "earliest_post_days = cleaned_data['post_timestamp'].min()\n",
    "latest_post_days = cleaned_data['post_timestamp'].max()\n",
    "\n",
    "earliest_post_days, latest_post_days\n"
   ]
  },
  {
   "cell_type": "raw",
   "id": "019b3083-83d3-4465-9ebb-541c14d02fbf",
   "metadata": {},
   "source": [
    "3. Distributions of Impressions"
   ]
  },
  {
   "cell_type": "code",
   "execution_count": 4,
   "id": "34b993dc-af63-490e-a18b-a95682b87ff4",
   "metadata": {},
   "outputs": [
    {
     "data": {
      "text/plain": [
       "count    3.259420e+05\n",
       "mean     3.636250e+05\n",
       "std      8.301449e+05\n",
       "min      6.000000e+00\n",
       "25%      3.591000e+03\n",
       "50%      4.355150e+04\n",
       "75%      2.476918e+05\n",
       "max      3.879325e+07\n",
       "Name: post_impressions, dtype: float64"
      ]
     },
     "execution_count": 4,
     "metadata": {},
     "output_type": "execute_result"
    }
   ],
   "source": [
    "# Calculating the distribution of impressions\n",
    "impressions_summary = cleaned_data['post_impressions'].describe()\n",
    "\n",
    "# Displaying the summary statistics for post impressions\n",
    "impressions_summary"
   ]
  },
  {
   "cell_type": "raw",
   "id": "070a9995-eafd-480f-b9be-470168de409d",
   "metadata": {},
   "source": [
    "Count: \n",
    "325,942 (Total number of posts with impression data)\n",
    "\n",
    "Mean: \n",
    "363,625 (Average number of impressions per post)\n",
    "\n",
    "Standard Deviation: \n",
    "830,144.9 (Variability of impressions)\n",
    "\n",
    "Minimum: \n",
    "6 (Minimum number of impressions)\n",
    "\n",
    "25th Percentile (Q1): \n",
    "3,591 (25% of posts have impressions less than this value)\n",
    "\n",
    "Median (Q2 / 50th Percentile): \n",
    "43,551.5 (50% of posts have impressions less than this value)\n",
    "\n",
    "75th Percentile (Q3): \n",
    "247,691.8 (75% of posts have impressions less than this value)\n",
    "\n",
    "Maximum: \n",
    "38,793,250 (Maximum number of impressions)"
   ]
  },
  {
   "cell_type": "raw",
   "id": "c8a67b0f-863e-4b97-be77-b1f0aa8ab8aa",
   "metadata": {},
   "source": [
    "4. The earliest and latest post timestamps"
   ]
  },
  {
   "cell_type": "code",
   "execution_count": 5,
   "id": "6d298779-39c7-4df2-bd0d-f0c9ccc68e63",
   "metadata": {},
   "outputs": [
    {
     "data": {
      "text/plain": [
       "(4, 730)"
      ]
     },
     "execution_count": 5,
     "metadata": {},
     "output_type": "execute_result"
    }
   ],
   "source": [
    "# Finding the earliest and latest post timestamps in terms of number of days\n",
    "earliest_post_days = cleaned_data['post_timestamp'].min()\n",
    "latest_post_days = cleaned_data['post_timestamp'].max()\n",
    "\n",
    "earliest_post_days, latest_post_days"
   ]
  }
 ],
 "metadata": {
  "kernelspec": {
   "display_name": "fin_proj",
   "language": "python",
   "name": "fin_proj"
  },
  "language_info": {
   "codemirror_mode": {
    "name": "ipython",
    "version": 3
   },
   "file_extension": ".py",
   "mimetype": "text/x-python",
   "name": "python",
   "nbconvert_exporter": "python",
   "pygments_lexer": "ipython3",
   "version": "3.10.9"
  }
 },
 "nbformat": 4,
 "nbformat_minor": 5
}
