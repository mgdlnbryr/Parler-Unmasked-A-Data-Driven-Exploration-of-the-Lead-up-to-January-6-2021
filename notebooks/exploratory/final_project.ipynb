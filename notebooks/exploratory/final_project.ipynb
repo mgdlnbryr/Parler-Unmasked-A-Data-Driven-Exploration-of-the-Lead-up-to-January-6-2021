{
 "cells": [
  {
   "cell_type": "markdown",
   "id": "1288f6c7-998b-44b7-b4ee-048b92f6ee4a",
   "metadata": {},
   "source": [
    "# Parler Unmasked: A Data-Driven Exploration of the Lead-up to January 6, 2021"
   ]
  },
  {
   "cell_type": "code",
   "execution_count": 1,
   "id": "6eac7bde-dfc5-466b-8002-eab1ac391f78",
   "metadata": {},
   "outputs": [
    {
     "data": {
      "text/html": [
       "<div>\n",
       "<style scoped>\n",
       "    .dataframe tbody tr th:only-of-type {\n",
       "        vertical-align: middle;\n",
       "    }\n",
       "\n",
       "    .dataframe tbody tr th {\n",
       "        vertical-align: top;\n",
       "    }\n",
       "\n",
       "    .dataframe thead th {\n",
       "        text-align: right;\n",
       "    }\n",
       "</style>\n",
       "<table border=\"1\" class=\"dataframe\">\n",
       "  <thead>\n",
       "    <tr style=\"text-align: right;\">\n",
       "      <th></th>\n",
       "      <th>author_name</th>\n",
       "      <th>author_username</th>\n",
       "      <th>author_profile_photo</th>\n",
       "      <th>post_text</th>\n",
       "      <th>post_image</th>\n",
       "      <th>post_timestamp</th>\n",
       "      <th>post_impressions</th>\n",
       "    </tr>\n",
       "  </thead>\n",
       "  <tbody>\n",
       "    <tr>\n",
       "      <th>0</th>\n",
       "      <td>Andy Ngo</td>\n",
       "      <td>@AndyNgo</td>\n",
       "      <td>https://images.parler.com/777e039d6a5341388549...</td>\n",
       "      <td>philadelphia police charged in relation to an ...</td>\n",
       "      <td>https://api.parler.com/l/GJCyQ</td>\n",
       "      <td>5</td>\n",
       "      <td>132117.0</td>\n",
       "    </tr>\n",
       "    <tr>\n",
       "      <th>1</th>\n",
       "      <td>Bill Kays</td>\n",
       "      <td>@rebootbill</td>\n",
       "      <td>https://images.parler.com/706f1c9d8b454b5f8108...</td>\n",
       "      <td>NaN</td>\n",
       "      <td>NaN</td>\n",
       "      <td>4</td>\n",
       "      <td>13.0</td>\n",
       "    </tr>\n",
       "    <tr>\n",
       "      <th>2</th>\n",
       "      <td>Flint Bedrock</td>\n",
       "      <td>@flintbedrock</td>\n",
       "      <td>https://images.parler.com/1f45e69f8ed145f9b7b0...</td>\n",
       "      <td>patriots in dc are ready for tomorrow</td>\n",
       "      <td>NaN</td>\n",
       "      <td>5</td>\n",
       "      <td>248971.0</td>\n",
       "    </tr>\n",
       "    <tr>\n",
       "      <th>3</th>\n",
       "      <td>Name Hidden</td>\n",
       "      <td>@Private User</td>\n",
       "      <td>../../company-media.parler.com/par-default-pro...</td>\n",
       "      <td>let s follow each other</td>\n",
       "      <td>https://api.parler.com/l/jB7Lz</td>\n",
       "      <td>5</td>\n",
       "      <td>9829.0</td>\n",
       "    </tr>\n",
       "    <tr>\n",
       "      <th>4</th>\n",
       "      <td>Name Hidden</td>\n",
       "      <td>@Private User</td>\n",
       "      <td>../../company-media.parler.com/par-default-pro...</td>\n",
       "      <td>NaN</td>\n",
       "      <td>../../api.parler.com/l/6Ac5M.html</td>\n",
       "      <td>5</td>\n",
       "      <td>15689.0</td>\n",
       "    </tr>\n",
       "  </tbody>\n",
       "</table>\n",
       "</div>"
      ],
      "text/plain": [
       "     author_name author_username  \\\n",
       "0       Andy Ngo        @AndyNgo   \n",
       "1      Bill Kays     @rebootbill   \n",
       "2  Flint Bedrock   @flintbedrock   \n",
       "3    Name Hidden   @Private User   \n",
       "4    Name Hidden   @Private User   \n",
       "\n",
       "                                author_profile_photo  \\\n",
       "0  https://images.parler.com/777e039d6a5341388549...   \n",
       "1  https://images.parler.com/706f1c9d8b454b5f8108...   \n",
       "2  https://images.parler.com/1f45e69f8ed145f9b7b0...   \n",
       "3  ../../company-media.parler.com/par-default-pro...   \n",
       "4  ../../company-media.parler.com/par-default-pro...   \n",
       "\n",
       "                                           post_text  \\\n",
       "0  philadelphia police charged in relation to an ...   \n",
       "1                                                NaN   \n",
       "2              patriots in dc are ready for tomorrow   \n",
       "3                            let s follow each other   \n",
       "4                                                NaN   \n",
       "\n",
       "                          post_image  post_timestamp  post_impressions  \n",
       "0     https://api.parler.com/l/GJCyQ               5          132117.0  \n",
       "1                                NaN               4              13.0  \n",
       "2                                NaN               5          248971.0  \n",
       "3     https://api.parler.com/l/jB7Lz               5            9829.0  \n",
       "4  ../../api.parler.com/l/6Ac5M.html               5           15689.0  "
      ]
     },
     "execution_count": 1,
     "metadata": {},
     "output_type": "execute_result"
    }
   ],
   "source": [
    "import pandas as pd\n",
    "import re\n",
    "import numpy as np\n",
    "\n",
    "# Loading the cleaned dataset\n",
    "file_path = \"../../data/cleaned/cleaned_dataset.csv\"\n",
    "cleaned_data = pd.read_csv(file_path)\n",
    "\n",
    "# Displaying the first few rows of the cleaned dataset\n",
    "cleaned_data.head()"
   ]
  },
  {
   "cell_type": "markdown",
   "id": "6892dcd0-da12-430f-81f5-dae5ff49f06b",
   "metadata": {},
   "source": [
    "## Finding the Most Frequent Hashtags"
   ]
  },
  {
   "cell_type": "code",
   "execution_count": 2,
   "id": "e2359b49-85a3-484e-9aca-0e75ab26f5ff",
   "metadata": {},
   "outputs": [
    {
     "data": {
      "text/plain": [
       "post_text\n",
       "#stopthesteal     11609\n",
       "#maga             11108\n",
       "#trump            10214\n",
       "#electionfraud     5558\n",
       "#americafirst      5135\n",
       "#election          5008\n",
       "#georgia           4066\n",
       "#kag               3721\n",
       "#saveamerica       3596\n",
       "#wwg               3402\n",
       "#trumptrain        3231\n",
       "#parler            2901\n",
       "#voterfraud        2880\n",
       "#fightback         2824\n",
       "#marchfortrump     2744\n",
       "#antifa            2663\n",
       "#dominion          2480\n",
       "#donaldtrump       2436\n",
       "#usa               2414\n",
       "#covid             2292\n",
       "Name: count, dtype: int64"
      ]
     },
     "execution_count": 2,
     "metadata": {},
     "output_type": "execute_result"
    }
   ],
   "source": [
    "# Function to extract hashtags from text\n",
    "def extract_hashtags(text):\n",
    "    return re.findall(r'#\\w+', str(text))\n",
    "\n",
    "# Applying the extract_hashtags function to the post_text column and creating a list of all hashtags\n",
    "all_hashtags = cleaned_data['post_text'].apply(extract_hashtags).explode().dropna()\n",
    "\n",
    "# Calculating the frequency of each hashtag\n",
    "hashtag_counts = all_hashtags.value_counts()\n",
    "\n",
    "# Displaying the top 20 most common hashtags\n",
    "top_hashtags = hashtag_counts.head(20)\n",
    "top_hashtags"
   ]
  },
  {
   "cell_type": "code",
   "execution_count": 3,
   "id": "496c4a3c-13e8-40a2-9d23-42210827b24d",
   "metadata": {},
   "outputs": [
    {
     "data": {
      "image/png": "[encoded data removed]",
      "text/plain": [
       "<Figure size 1200x800 with 1 Axes>"
      ]
     },
     "metadata": {},
     "output_type": "display_data"
    }
   ],
   "source": [
    "# Importing the Seaborn library\n",
    "import seaborn as sns\n",
    "import matplotlib.pyplot as plt\n",
    "\n",
    "# Selecting the top 20 most common hashtags\n",
    "top_hashtags = hashtag_counts.head(20)\n",
    "\n",
    "# Creating a horizontal bar plot using Seaborn\n",
    "plt.figure(figsize=(12, 8))\n",
    "sns.barplot(x=top_hashtags.values, y=top_hashtags.index, palette='viridis')\n",
    "plt.title('Top 20 Most Common Hashtags')\n",
    "plt.xlabel('Occurrence Count')\n",
    "plt.ylabel('Hashtag')\n",
    "\n",
    "plt.savefig(\"../../models/top_hashtags.png\")  \n",
    "\n",
    "plt.show()"
   ]
  },
  {
   "cell_type": "markdown",
   "id": "ddc6e3f3-ee49-411d-90ec-cd6c669473fb",
   "metadata": {},
   "source": [
    "## Vectorization (TF-IDF) and Clustering (MiniBatchKMeans)"
   ]
  },
  {
   "cell_type": "code",
   "execution_count": 4,
   "id": "9336056a-4245-4bd3-86de-90380794956d",
   "metadata": {},
   "outputs": [
    {
     "name": "stderr",
     "output_type": "stream",
     "text": [
      "/Users/maggiebreyer/Documents/Education/IronHack/Week_9/Final_project/fin_proj/lib/python3.10/site-packages/sklearn/cluster/_kmeans.py:1930: FutureWarning: The default value of `n_init` will change from 3 to 'auto' in 1.4. Set the value of `n_init` explicitly to suppress the warning\n",
      "  super()._check_params_vs_input(X, default_n_init=3)\n"
     ]
    },
    {
     "data": {
      "text/html": [
       "<div>\n",
       "<style scoped>\n",
       "    .dataframe tbody tr th:only-of-type {\n",
       "        vertical-align: middle;\n",
       "    }\n",
       "\n",
       "    .dataframe tbody tr th {\n",
       "        vertical-align: top;\n",
       "    }\n",
       "\n",
       "    .dataframe thead th {\n",
       "        text-align: right;\n",
       "    }\n",
       "</style>\n",
       "<table border=\"1\" class=\"dataframe\">\n",
       "  <thead>\n",
       "    <tr style=\"text-align: right;\">\n",
       "      <th></th>\n",
       "      <th>author_name</th>\n",
       "      <th>author_username</th>\n",
       "      <th>author_profile_photo</th>\n",
       "      <th>post_text</th>\n",
       "      <th>post_image</th>\n",
       "      <th>post_timestamp</th>\n",
       "      <th>post_impressions</th>\n",
       "      <th>cluster</th>\n",
       "    </tr>\n",
       "  </thead>\n",
       "  <tbody>\n",
       "    <tr>\n",
       "      <th>0</th>\n",
       "      <td>Andy Ngo</td>\n",
       "      <td>@AndyNgo</td>\n",
       "      <td>https://images.parler.com/777e039d6a5341388549...</td>\n",
       "      <td>philadelphia police charged relation # antifa ...</td>\n",
       "      <td>https://api.parler.com/l/GJCyQ</td>\n",
       "      <td>5</td>\n",
       "      <td>132117.0</td>\n",
       "      <td>4</td>\n",
       "    </tr>\n",
       "    <tr>\n",
       "      <th>1</th>\n",
       "      <td>Bill Kays</td>\n",
       "      <td>@rebootbill</td>\n",
       "      <td>https://images.parler.com/706f1c9d8b454b5f8108...</td>\n",
       "      <td></td>\n",
       "      <td>NaN</td>\n",
       "      <td>4</td>\n",
       "      <td>13.0</td>\n",
       "      <td>8</td>\n",
       "    </tr>\n",
       "    <tr>\n",
       "      <th>2</th>\n",
       "      <td>Flint Bedrock</td>\n",
       "      <td>@flintbedrock</td>\n",
       "      <td>https://images.parler.com/1f45e69f8ed145f9b7b0...</td>\n",
       "      <td>patriots dc ready tomorrow</td>\n",
       "      <td>NaN</td>\n",
       "      <td>5</td>\n",
       "      <td>248971.0</td>\n",
       "      <td>5</td>\n",
       "    </tr>\n",
       "    <tr>\n",
       "      <th>3</th>\n",
       "      <td>Name Hidden</td>\n",
       "      <td>@Private User</td>\n",
       "      <td>../../company-media.parler.com/par-default-pro...</td>\n",
       "      <td>let follow</td>\n",
       "      <td>https://api.parler.com/l/jB7Lz</td>\n",
       "      <td>5</td>\n",
       "      <td>9829.0</td>\n",
       "      <td>1</td>\n",
       "    </tr>\n",
       "    <tr>\n",
       "      <th>4</th>\n",
       "      <td>Name Hidden</td>\n",
       "      <td>@Private User</td>\n",
       "      <td>../../company-media.parler.com/par-default-pro...</td>\n",
       "      <td></td>\n",
       "      <td>../../api.parler.com/l/6Ac5M.html</td>\n",
       "      <td>5</td>\n",
       "      <td>15689.0</td>\n",
       "      <td>8</td>\n",
       "    </tr>\n",
       "  </tbody>\n",
       "</table>\n",
       "</div>"
      ],
      "text/plain": [
       "     author_name author_username  \\\n",
       "0       Andy Ngo        @AndyNgo   \n",
       "1      Bill Kays     @rebootbill   \n",
       "2  Flint Bedrock   @flintbedrock   \n",
       "3    Name Hidden   @Private User   \n",
       "4    Name Hidden   @Private User   \n",
       "\n",
       "                                author_profile_photo  \\\n",
       "0  https://images.parler.com/777e039d6a5341388549...   \n",
       "1  https://images.parler.com/706f1c9d8b454b5f8108...   \n",
       "2  https://images.parler.com/1f45e69f8ed145f9b7b0...   \n",
       "3  ../../company-media.parler.com/par-default-pro...   \n",
       "4  ../../company-media.parler.com/par-default-pro...   \n",
       "\n",
       "                                           post_text  \\\n",
       "0  philadelphia police charged relation # antifa ...   \n",
       "1                                                      \n",
       "2                         patriots dc ready tomorrow   \n",
       "3                                         let follow   \n",
       "4                                                      \n",
       "\n",
       "                          post_image  post_timestamp  post_impressions  \\\n",
       "0     https://api.parler.com/l/GJCyQ               5          132117.0   \n",
       "1                                NaN               4              13.0   \n",
       "2                                NaN               5          248971.0   \n",
       "3     https://api.parler.com/l/jB7Lz               5            9829.0   \n",
       "4  ../../api.parler.com/l/6Ac5M.html               5           15689.0   \n",
       "\n",
       "   cluster  \n",
       "0        4  \n",
       "1        8  \n",
       "2        5  \n",
       "3        1  \n",
       "4        8  "
      ]
     },
     "execution_count": 4,
     "metadata": {},
     "output_type": "execute_result"
    }
   ],
   "source": [
    "from nltk.corpus import stopwords\n",
    "import nltk\n",
    "from sklearn.feature_extraction.text import TfidfVectorizer\n",
    "from sklearn.cluster import MiniBatchKMeans\n",
    "\n",
    "def preprocess_text(text):\n",
    "    if pd.isnull(text):\n",
    "        return ''\n",
    "    nltk.download('punkt', quiet=True)\n",
    "    nltk.download('stopwords', quiet=True)\n",
    "    stop_words = set(stopwords.words('english'))\n",
    "    word_tokens = nltk.word_tokenize(text)\n",
    "    filtered_text = [w for w in word_tokens if not w in stop_words]\n",
    "    return \" \".join(filtered_text)\n",
    "\n",
    "# Apply preprocessing to the post_text column\n",
    "cleaned_data['post_text'] = cleaned_data['post_text'].apply(preprocess_text)\n",
    "\n",
    "# TF-IDF vectorization\n",
    "tfidf_vectorizer = TfidfVectorizer(max_features=5000) # Limiting to 5000 features\n",
    "tfidf_matrix = tfidf_vectorizer.fit_transform(cleaned_data['post_text'])\n",
    "\n",
    "# Importing MiniBatchKMeans for clustering\n",
    "from sklearn.cluster import MiniBatchKMeans\n",
    "\n",
    "# Defining the MiniBatchKMeans model\n",
    "minibatch_kmeans = MiniBatchKMeans(n_clusters=10, random_state=42, batch_size=2000)\n",
    "\n",
    "# Fitting the model to the TF-IDF matrix\n",
    "minibatch_kmeans.fit(tfidf_matrix)\n",
    "\n",
    "# Getting the cluster labels for each post\n",
    "cluster_labels = minibatch_kmeans.labels_\n",
    "\n",
    "# Adding the cluster labels to the DataFrame\n",
    "cleaned_data['cluster'] = cluster_labels\n",
    "\n",
    "# Checking the first few rows to see the cluster labels\n",
    "cleaned_data.head()"
   ]
  },
  {
   "cell_type": "code",
   "execution_count": 5,
   "id": "6380a820-3709-481e-94c0-6341a4a2e2aa",
   "metadata": {},
   "outputs": [],
   "source": [
    "cleaned_data.to_csv('../../data/cleaned/clustering_model_one.csv', index=False)"
   ]
  },
  {
   "cell_type": "code",
   "execution_count": 6,
   "id": "75574c9c-eb6e-4544-b91e-a77aeea5f804",
   "metadata": {},
   "outputs": [
    {
     "name": "stdout",
     "output_type": "stream",
     "text": [
      "Cluster 0: votes, explanation, negative, explained, david, taken, georgiathey, perdue, live, still\n",
      "Cluster 1: let, follow, biden, wtf, us, georgia, live, fraud, see, yes\n",
      "Cluster 2: people, wow, must, thank, west, wing, hear, right, oval, office\n",
      "Cluster 3: perdue, vote, votes, georgia, loeffler, warnock, ga, thousand, lead, see\n",
      "Cluster 4: expecting, holy, cow, america, covid, kamala, harris, king, constitutional, time\n",
      "Cluster 5: trump, echo, dc, president, follow, patriots, election, watch, georgia, tomorrow\n",
      "Cluster 6: go, italy, enough, constitution, obama, election, us, politicians, pm, results\n",
      "Cluster 7: citizen, press, free, plaza, speaking, take, flynn, live, freedom, watch\n",
      "Cluster 8: biblical, worth, words, starting, maga, thanks, think, bastard, remember, need\n",
      "Cluster 9: presiding, swear, lt, democratic, session, remove, majority, gov, senator, pennsylvania\n"
     ]
    }
   ],
   "source": [
    "def get_top_terms_per_cluster(tfidf_matrix, cluster_labels, vectorizer, num_terms=10):\n",
    "    # Get feature names from the TF-IDF vectorizer\n",
    "    feature_names = vectorizer.get_feature_names_out()\n",
    "    \n",
    "    # Create a DataFrame to store the TF-IDF matrix\n",
    "    df_tfidf = pd.DataFrame(tfidf_matrix.toarray())\n",
    "    \n",
    "    # Add the cluster labels to the DataFrame\n",
    "    df_tfidf['cluster'] = cluster_labels\n",
    "\n",
    "    # Group by cluster and calculate the mean for each term\n",
    "    cluster_means = df_tfidf.groupby('cluster').mean()\n",
    "    \n",
    "    # Get the top terms for each cluster\n",
    "    top_terms = {}\n",
    "    for cluster, row in cluster_means.iterrows():\n",
    "        top_terms[cluster] = [feature_names[i] for i in row.nlargest(num_terms).index]\n",
    "    \n",
    "    return top_terms\n",
    "\n",
    "# Get the top 10 terms for each cluster\n",
    "top_terms_per_cluster = get_top_terms_per_cluster(tfidf_matrix, minibatch_kmeans.labels_, tfidf_vectorizer, num_terms=10)\n",
    "\n",
    "# Print the top terms for each cluster\n",
    "for cluster, terms in top_terms_per_cluster.items():\n",
    "    print(f\"Cluster {cluster}: {', '.join(terms)}\")"
   ]
  },
  {
   "cell_type": "code",
   "execution_count": 7,
   "id": "555bfad1-8601-4713-832a-fd7561d048ae",
   "metadata": {},
   "outputs": [],
   "source": [
    "import pickle\n",
    "from scipy.sparse import save_npz\n",
    "\n",
    "# Save TF-IDF matrix\n",
    "save_npz('../../models/tfidf_matrix.npz', tfidf_matrix)\n",
    "\n",
    "# Save TF-IDF vectorizer\n",
    "with open('../../models/tfidf_vectorizer.pkl', 'wb') as f:\n",
    "    pickle.dump(tfidf_vectorizer, f)"
   ]
  },
  {
   "cell_type": "markdown",
   "id": "7690bd29-cc0b-4ab2-9bab-eaebbdb17aa9",
   "metadata": {},
   "source": [
    "### Inertia, Silhoutte Score, and Elbow Method"
   ]
  },
  {
   "cell_type": "code",
   "execution_count": 8,
   "id": "6d06e603-5e7e-4475-8832-a8687d614ae9",
   "metadata": {},
   "outputs": [
    {
     "name": "stdout",
     "output_type": "stream",
     "text": [
      "Inertia: 249179.9935481755\n",
      "Silhouette Score (on subset): 0.03429819725153856\n"
     ]
    }
   ],
   "source": [
    "import numpy as np\n",
    "from sklearn.metrics import silhouette_score\n",
    "\n",
    "# Sample a random subset of the data (e.g., 10%)\n",
    "sample_indices = np.random.choice(tfidf_matrix.shape[0], int(tfidf_matrix.shape[0] * 0.1), replace=False)\n",
    "sample_tfidf_matrix = tfidf_matrix[sample_indices]\n",
    "sample_labels = minibatch_kmeans.labels_[sample_indices]\n",
    "\n",
    "# Inertia\n",
    "inertia = minibatch_kmeans.inertia_\n",
    "\n",
    "# Silhouette Score on the subset\n",
    "silhouette_avg = silhouette_score(sample_tfidf_matrix, sample_labels)\n",
    "\n",
    "print(f\"Inertia: {inertia}\")\n",
    "print(f\"Silhouette Score (on subset): {silhouette_avg}\")"
   ]
  },
  {
   "cell_type": "code",
   "execution_count": 11,
   "id": "822d175b-36d2-47d7-b3df-11c342cdec99",
   "metadata": {},
   "outputs": [
    {
     "ename": "NotFittedError",
     "evalue": "The TF-IDF vectorizer is not fitted",
     "output_type": "error",
     "traceback": [
      "\u001b[0;31m---------------------------------------------------------------------------\u001b[0m",
      "\u001b[0;31mNotFittedError\u001b[0m                            Traceback (most recent call last)",
      "Cell \u001b[0;32mIn[11], line 9\u001b[0m\n\u001b[1;32m      6\u001b[0m sampled_data_10 \u001b[38;5;241m=\u001b[39m cleaned_data\u001b[38;5;241m.\u001b[39msample(frac\u001b[38;5;241m=\u001b[39m\u001b[38;5;241m0.1\u001b[39m, random_state\u001b[38;5;241m=\u001b[39m\u001b[38;5;241m1234\u001b[39m)\n\u001b[1;32m      8\u001b[0m \u001b[38;5;66;03m# TF-IDF vectorization of the sampled preprocessed text\u001b[39;00m\n\u001b[0;32m----> 9\u001b[0m X_sampled_10 \u001b[38;5;241m=\u001b[39m \u001b[43mvectorizer\u001b[49m\u001b[38;5;241;43m.\u001b[39;49m\u001b[43mtransform\u001b[49m\u001b[43m(\u001b[49m\u001b[43msampled_data_10\u001b[49m\u001b[43m[\u001b[49m\u001b[38;5;124;43m'\u001b[39;49m\u001b[38;5;124;43mpost_text\u001b[39;49m\u001b[38;5;124;43m'\u001b[39;49m\u001b[43m]\u001b[49m\u001b[43m)\u001b[49m\n\u001b[1;32m     11\u001b[0m \u001b[38;5;66;03m# Computing inertia for different values of k (number of clusters) for the sampled data\u001b[39;00m\n\u001b[1;32m     12\u001b[0m inertia_sampled_10 \u001b[38;5;241m=\u001b[39m []\n",
      "File \u001b[0;32m~/Documents/Education/IronHack/Week_9/Final_project/fin_proj/lib/python3.10/site-packages/sklearn/feature_extraction/text.py:2148\u001b[0m, in \u001b[0;36mTfidfVectorizer.transform\u001b[0;34m(self, raw_documents)\u001b[0m\n\u001b[1;32m   2132\u001b[0m \u001b[38;5;28;01mdef\u001b[39;00m \u001b[38;5;21mtransform\u001b[39m(\u001b[38;5;28mself\u001b[39m, raw_documents):\n\u001b[1;32m   2133\u001b[0m \u001b[38;5;250m    \u001b[39m\u001b[38;5;124;03m\"\"\"Transform documents to document-term matrix.\u001b[39;00m\n\u001b[1;32m   2134\u001b[0m \n\u001b[1;32m   2135\u001b[0m \u001b[38;5;124;03m    Uses the vocabulary and document frequencies (df) learned by fit (or\u001b[39;00m\n\u001b[0;32m   (...)\u001b[0m\n\u001b[1;32m   2146\u001b[0m \u001b[38;5;124;03m        Tf-idf-weighted document-term matrix.\u001b[39;00m\n\u001b[1;32m   2147\u001b[0m \u001b[38;5;124;03m    \"\"\"\u001b[39;00m\n\u001b[0;32m-> 2148\u001b[0m     \u001b[43mcheck_is_fitted\u001b[49m\u001b[43m(\u001b[49m\u001b[38;5;28;43mself\u001b[39;49m\u001b[43m,\u001b[49m\u001b[43m \u001b[49m\u001b[43mmsg\u001b[49m\u001b[38;5;241;43m=\u001b[39;49m\u001b[38;5;124;43m\"\u001b[39;49m\u001b[38;5;124;43mThe TF-IDF vectorizer is not fitted\u001b[39;49m\u001b[38;5;124;43m\"\u001b[39;49m\u001b[43m)\u001b[49m\n\u001b[1;32m   2150\u001b[0m     X \u001b[38;5;241m=\u001b[39m \u001b[38;5;28msuper\u001b[39m()\u001b[38;5;241m.\u001b[39mtransform(raw_documents)\n\u001b[1;32m   2151\u001b[0m     \u001b[38;5;28;01mreturn\u001b[39;00m \u001b[38;5;28mself\u001b[39m\u001b[38;5;241m.\u001b[39m_tfidf\u001b[38;5;241m.\u001b[39mtransform(X, copy\u001b[38;5;241m=\u001b[39m\u001b[38;5;28;01mFalse\u001b[39;00m)\n",
      "File \u001b[0;32m~/Documents/Education/IronHack/Week_9/Final_project/fin_proj/lib/python3.10/site-packages/sklearn/utils/validation.py:1462\u001b[0m, in \u001b[0;36mcheck_is_fitted\u001b[0;34m(estimator, attributes, msg, all_or_any)\u001b[0m\n\u001b[1;32m   1459\u001b[0m     \u001b[38;5;28;01mraise\u001b[39;00m \u001b[38;5;167;01mTypeError\u001b[39;00m(\u001b[38;5;124m\"\u001b[39m\u001b[38;5;132;01m%s\u001b[39;00m\u001b[38;5;124m is not an estimator instance.\u001b[39m\u001b[38;5;124m\"\u001b[39m \u001b[38;5;241m%\u001b[39m (estimator))\n\u001b[1;32m   1461\u001b[0m \u001b[38;5;28;01mif\u001b[39;00m \u001b[38;5;129;01mnot\u001b[39;00m _is_fitted(estimator, attributes, all_or_any):\n\u001b[0;32m-> 1462\u001b[0m     \u001b[38;5;28;01mraise\u001b[39;00m NotFittedError(msg \u001b[38;5;241m%\u001b[39m {\u001b[38;5;124m\"\u001b[39m\u001b[38;5;124mname\u001b[39m\u001b[38;5;124m\"\u001b[39m: \u001b[38;5;28mtype\u001b[39m(estimator)\u001b[38;5;241m.\u001b[39m\u001b[38;5;18m__name__\u001b[39m})\n",
      "\u001b[0;31mNotFittedError\u001b[0m: The TF-IDF vectorizer is not fitted"
     ]
    }
   ],
   "source": [
    "from sklearn.feature_extraction.text import TfidfVectorizer\n",
    "\n",
    "# Randomly sample 10% of the data\n",
    "sampled_data_10 = cleaned_data.sample(frac=0.1, random_state=1234)\n",
    "\n",
    "# TF-IDF vectorization of the sampled preprocessed text\n",
    "X_sampled_10 = vectorizer.transform(sampled_data_10['post_text'])\n",
    "\n",
    "# Computing inertia for different values of k (number of clusters) for the sampled data\n",
    "inertia_sampled_10 = []\n",
    "\n",
    "for k in K:\n",
    "    kmeans = KMeans(n_clusters=k, random_state=1234)\n",
    "    kmeans.fit(X_sampled_10)\n",
    "    inertia_sampled_10.append(kmeans.inertia_)\n",
    "\n",
    "# Plotting the Elbow Method for the 10% sampled data\n",
    "plt.figure(figsize=(10, 6))\n",
    "plt.plot(K, inertia_sampled_10, 'bx-')\n",
    "plt.xlabel('k')\n",
    "plt.ylabel('inertia')\n",
    "plt.xticks(np.arange(min(K), max(K) + 1, 1.0))\n",
    "plt.title('Elbow Method (using 10% sampled data) showing the optimal k')\n",
    "plt.savefig(\"../../models/elbow_method.png\")  \n",
    "plt.show()"
   ]
  },
  {
   "cell_type": "markdown",
   "id": "194e66d5-f938-4c7e-a3c7-29e8db721450",
   "metadata": {},
   "source": [
    "## Topic Modelling: Latent Dirichlet Allocation (LDA)"
   ]
  },
  {
   "cell_type": "code",
   "execution_count": null,
   "id": "c9b45b5a-be5f-4d01-a063-99bf1bab8b12",
   "metadata": {},
   "outputs": [],
   "source": [
    "from sklearn.feature_extraction.text import CountVectorizer\n",
    "from sklearn.decomposition import LatentDirichletAllocation\n",
    "\n",
    "# Vectorizing the preprocessed text using Count Vectorizer\n",
    "count_vectorizer = CountVectorizer(max_features=5000)\n",
    "X_count = count_vectorizer.fit_transform(cleaned_data['post_text'])\n",
    "\n",
    "# Number of topics to discover\n",
    "num_topics = 10\n",
    "\n",
    "# Training the LDA model\n",
    "lda_model = LatentDirichletAllocation(n_components=num_topics, random_state=1234)\n",
    "lda_model.fit(X_count)\n",
    "\n",
    "# Function to display the top words for each topic\n",
    "def display_topics(model, feature_names, no_top_words):\n",
    "    topics = []\n",
    "    for topic_idx, topic in enumerate(model.components_):\n",
    "        top_words = \" \".join([feature_names[i] for i in topic.argsort()[:-no_top_words - 1:-1]])\n",
    "        topics.append(f\"Topic {topic_idx}: {top_words}\")\n",
    "    return topics\n",
    "\n",
    "# Displaying the top 10 words for each topic\n",
    "top_words_per_topic = display_topics(lda_model, count_vectorizer.get_feature_names_out(), 10)\n",
    "top_words_per_topic"
   ]
  },
  {
   "cell_type": "markdown",
   "id": "b47717c0-71aa-497e-add0-6bae35eccfa5",
   "metadata": {},
   "source": [
    "### Topic Modelling Visualization"
   ]
  },
  {
   "cell_type": "code",
   "execution_count": null,
   "id": "10fbe048-94cc-4c9b-9cef-035ed137c320",
   "metadata": {},
   "outputs": [],
   "source": [
    "import pyLDAvis\n",
    "\n",
    "# Sampling 1% of the data for LDA topic modeling (to manage memory constraints)\n",
    "sampled_data = cleaned_data.sample(frac=0.01, random_state=1234)\n",
    "\n",
    "# Create a document-topic matrix\n",
    "doc_topic_distr = lda_model.transform(X_count)\n",
    "\n",
    "# Vocabulary and term frequency\n",
    "vocab = count_vectorizer.get_feature_names_out()\n",
    "term_frequency = X_count.sum(axis=0).tolist()[0]\n",
    "\n",
    "# Prepare the data for pyLDAvis visualization\n",
    "pyLDAvis_data = pyLDAvis.prepare(\n",
    "    topic_term_dists=lda_model.components_, \n",
    "    doc_topic_dists=doc_topic_distr, \n",
    "    doc_lengths=sampled_data['post_text'].apply(len).values, \n",
    "    vocab=vocab, \n",
    "    term_frequency=term_frequency\n",
    ")\n",
    "\n",
    "# Display the interactive plot (in a Jupyter Notebook)\n",
    "pyLDAvis.display(pyLDAvis_data)\n",
    "\n",
    "# Save the visualization to an HTML file\n",
    "pyLDAvis.save_html(pyLDAvis_data, '../../models/lda_visualization2.html')"
   ]
  },
  {
   "cell_type": "markdown",
   "id": "c5b70e5a-5ce4-46be-be3f-ba82a38bc88f",
   "metadata": {},
   "source": [
    "## Time Series Analysis"
   ]
  },
  {
   "cell_type": "markdown",
   "id": "8f7aacdb-0dfd-4651-8dac-cd65d1239b0c",
   "metadata": {},
   "source": [
    "### Hashtags"
   ]
  },
  {
   "cell_type": "code",
   "execution_count": null,
   "id": "c4f3a848-2812-4e17-8ae0-27f5f0a44335",
   "metadata": {},
   "outputs": [],
   "source": [
    "# Converting the post_timestamp into an actual date format\n",
    "cleaned_data['date'] = pd.to_datetime('2021-01-09') - pd.to_timedelta(cleaned_data['post_timestamp'], unit='D')\n",
    "\n",
    "# Displaying the first few rows to verify the date conversion\n",
    "cleaned_data[['post_timestamp', 'date']].head()"
   ]
  },
  {
   "cell_type": "code",
   "execution_count": null,
   "id": "f0f9b2d1-5e64-4196-8079-8abba36a8d66",
   "metadata": {},
   "outputs": [],
   "source": [
    "# Extracting hashtags considering both patterns (with and without space after \"#\")\n",
    "cleaned_data['hashtags'] = cleaned_data['post_text'].apply(lambda x: re.findall(r'#\\S+|#\\s+\\S+', str(x)))\n",
    "\n",
    "# Replacing '# ' with '#' in the extracted hashtags\n",
    "cleaned_data['hashtags'] = cleaned_data['hashtags'].apply(lambda x: [hashtag.replace('# ', '#') for hashtag in x])\n",
    "\n",
    "# Displaying the first few rows to verify the updated hashtag extraction\n",
    "cleaned_data[['post_text', 'hashtags']].head()"
   ]
  },
  {
   "cell_type": "code",
   "execution_count": null,
   "id": "ee1ac23c-f90f-4464-99d6-d851fdc356a0",
   "metadata": {},
   "outputs": [],
   "source": [
    "from collections import Counter\n",
    "\n",
    "# Function to find the top 5 hashtags for a given list of hashtags\n",
    "def top_hashtags(hashtags_list):\n",
    "    all_hashtags = [hashtag for hashtags in hashtags_list for hashtag in hashtags]\n",
    "    return Counter(all_hashtags).most_common(5)\n",
    "\n",
    "# Resampling the data by month and finding the top 5 hashtags for each month\n",
    "monthly_trending_hashtags = cleaned_data.groupby(pd.Grouper(key='date', freq='M'))['hashtags'].apply(top_hashtags)\n",
    "\n",
    "# Filtering to include only the months from July 2020 to January 2021\n",
    "monthly_trending_hashtags = monthly_trending_hashtags['2020-07':'2021-01']\n",
    "\n",
    "# Displaying the top 5 trending hashtags for each month\n",
    "monthly_trending_hashtags"
   ]
  },
  {
   "cell_type": "code",
   "execution_count": null,
   "id": "c1ca3d59-c038-4789-b570-b3ba7ffbd61c",
   "metadata": {},
   "outputs": [],
   "source": [
    "# Printing the top 5 trending hashtags for each month\n",
    "for month, top_hashtags in monthly_trending_hashtags.items():\n",
    "    print(f\"Month: {month.strftime('%B %Y')}\")\n",
    "    for hashtag, count in top_hashtags:\n",
    "        print(f\"  - {hashtag}: {count} occurrences\")\n",
    "    print()"
   ]
  },
  {
   "cell_type": "markdown",
   "id": "eef7a6f3-0fc8-4819-9724-6c2ac1b3c678",
   "metadata": {},
   "source": [
    "### LDA"
   ]
  },
  {
   "cell_type": "code",
   "execution_count": null,
   "id": "7a4c7a1b-2453-46e7-ba32-f2e5c326cc40",
   "metadata": {},
   "outputs": [],
   "source": [
    "# Defining the specific range of months for analysis\n",
    "months_to_analyze = pd.date_range(start='2020-07-01', end='2021-01-31', freq='MS')\n",
    "\n",
    "# Repeating the LDA analysis for the specific monthly interval from July 2020 to January 2021\n",
    "monthly_lda_topics_new = {}\n",
    "\n",
    "# Filtering the data into the specific monthly intervals\n",
    "for start_month, end_month in zip(months_to_analyze[:-1], months_to_analyze[1:]):\n",
    "    monthly_posts = cleaned_data[(cleaned_data['date'] >= start_month) & (cleaned_data['date'] < end_month)]['post_text']\n",
    "    if not monthly_posts.empty:  # Check if there are posts for this month\n",
    "        monthly_lda_topics_new[end_month.strftime('%B %Y')] = perform_lda(monthly_posts)\n",
    "    else:\n",
    "        monthly_lda_topics_new[end_month.strftime('%B %Y')] = [\"No posts for this month\"]\n",
    "\n",
    "# Displaying the main topics for the months\n",
    "monthly_lda_topics_new"
   ]
  }
 ],
 "metadata": {
  "kernelspec": {
   "display_name": "fin_proj",
   "language": "python",
   "name": "fin_proj"
  },
  "language_info": {
   "codemirror_mode": {
    "name": "ipython",
    "version": 3
   },
   "file_extension": ".py",
   "mimetype": "text/x-python",
   "name": "python",
   "nbconvert_exporter": "python",
   "pygments_lexer": "ipython3",
   "version": "3.10.9"
  }
 },
 "nbformat": 4,
 "nbformat_minor": 5
}
