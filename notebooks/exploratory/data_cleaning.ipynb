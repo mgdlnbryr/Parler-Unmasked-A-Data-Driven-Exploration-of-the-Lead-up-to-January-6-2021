{
 "cells": [
  {
   "cell_type": "markdown",
   "id": "a2affc7f-2ed0-4c3a-a51c-d8ff95256eb6",
   "metadata": {},
   "source": [
    "# DATA CLEANING"
   ]
  },
  {
   "cell_type": "code",
   "execution_count": 1,
   "id": "40032e48-18dd-45a0-92c9-e20f45cf5f8a",
   "metadata": {},
   "outputs": [
    {
     "data": {
      "text/html": [
       "<div>\n",
       "<style scoped>\n",
       "    .dataframe tbody tr th:only-of-type {\n",
       "        vertical-align: middle;\n",
       "    }\n",
       "\n",
       "    .dataframe tbody tr th {\n",
       "        vertical-align: top;\n",
       "    }\n",
       "\n",
       "    .dataframe thead th {\n",
       "        text-align: right;\n",
       "    }\n",
       "</style>\n",
       "<table border=\"1\" class=\"dataframe\">\n",
       "  <thead>\n",
       "    <tr style=\"text-align: right;\">\n",
       "      <th></th>\n",
       "      <th>author_name</th>\n",
       "      <th>author_username</th>\n",
       "      <th>author_profile_photo</th>\n",
       "      <th>post_text</th>\n",
       "      <th>post_image</th>\n",
       "      <th>post_timestamp</th>\n",
       "      <th>post_impressions</th>\n",
       "    </tr>\n",
       "  </thead>\n",
       "  <tbody>\n",
       "    <tr>\n",
       "      <th>0</th>\n",
       "      <td>Andy Ngo</td>\n",
       "      <td>@AndyNgo</td>\n",
       "      <td>https://images.parler.com/777e039d6a5341388549...</td>\n",
       "      <td>Philadelphia Police charged 7 in relation to a...</td>\n",
       "      <td>https://api.parler.com/l/GJCyQ</td>\n",
       "      <td>5 days ago</td>\n",
       "      <td>132117.0</td>\n",
       "    </tr>\n",
       "    <tr>\n",
       "      <th>1</th>\n",
       "      <td>Bill Kays</td>\n",
       "      <td>@rebootbill</td>\n",
       "      <td>https://images.parler.com/706f1c9d8b454b5f8108...</td>\n",
       "      <td>NaN</td>\n",
       "      <td>NaN</td>\n",
       "      <td>4 days ago</td>\n",
       "      <td>13.0</td>\n",
       "    </tr>\n",
       "    <tr>\n",
       "      <th>2</th>\n",
       "      <td>Flint Bedrock</td>\n",
       "      <td>@flintbedrock</td>\n",
       "      <td>https://images.parler.com/1f45e69f8ed145f9b7b0...</td>\n",
       "      <td>Patriots in DC are ready for tomorrow.</td>\n",
       "      <td>NaN</td>\n",
       "      <td>5 days ago</td>\n",
       "      <td>248971.0</td>\n",
       "    </tr>\n",
       "    <tr>\n",
       "      <th>3</th>\n",
       "      <td>Name Hidden</td>\n",
       "      <td>@Private User</td>\n",
       "      <td>../../company-media.parler.com/par-default-pro...</td>\n",
       "      <td>Let’s follow each other!</td>\n",
       "      <td>https://api.parler.com/l/jB7Lz</td>\n",
       "      <td>5 days ago</td>\n",
       "      <td>9829.0</td>\n",
       "    </tr>\n",
       "    <tr>\n",
       "      <th>4</th>\n",
       "      <td>Name Hidden</td>\n",
       "      <td>@Private User</td>\n",
       "      <td>../../company-media.parler.com/par-default-pro...</td>\n",
       "      <td>NaN</td>\n",
       "      <td>../../api.parler.com/l/6Ac5M.html</td>\n",
       "      <td>5 days ago</td>\n",
       "      <td>15689.0</td>\n",
       "    </tr>\n",
       "  </tbody>\n",
       "</table>\n",
       "</div>"
      ],
      "text/plain": [
       "     author_name author_username  \\\n",
       "0       Andy Ngo        @AndyNgo   \n",
       "1      Bill Kays     @rebootbill   \n",
       "2  Flint Bedrock   @flintbedrock   \n",
       "3    Name Hidden   @Private User   \n",
       "4    Name Hidden   @Private User   \n",
       "\n",
       "                                author_profile_photo  \\\n",
       "0  https://images.parler.com/777e039d6a5341388549...   \n",
       "1  https://images.parler.com/706f1c9d8b454b5f8108...   \n",
       "2  https://images.parler.com/1f45e69f8ed145f9b7b0...   \n",
       "3  ../../company-media.parler.com/par-default-pro...   \n",
       "4  ../../company-media.parler.com/par-default-pro...   \n",
       "\n",
       "                                           post_text  \\\n",
       "0  Philadelphia Police charged 7 in relation to a...   \n",
       "1                                                NaN   \n",
       "2             Patriots in DC are ready for tomorrow.   \n",
       "3                           Let’s follow each other!   \n",
       "4                                                NaN   \n",
       "\n",
       "                          post_image post_timestamp  post_impressions  \n",
       "0     https://api.parler.com/l/GJCyQ     5 days ago          132117.0  \n",
       "1                                NaN     4 days ago              13.0  \n",
       "2                                NaN     5 days ago          248971.0  \n",
       "3     https://api.parler.com/l/jB7Lz     5 days ago            9829.0  \n",
       "4  ../../api.parler.com/l/6Ac5M.html     5 days ago           15689.0  "
      ]
     },
     "execution_count": 1,
     "metadata": {},
     "output_type": "execute_result"
    }
   ],
   "source": [
    "import pandas as pd\n",
    "import numpy as np\n",
    "file_path = '../../data/raw/all_posts.csv'\n",
    "parler = pd.read_csv(file_path)\n",
    "parler.head()"
   ]
  },
  {
   "cell_type": "markdown",
   "id": "3039f5d0-58a9-432e-bca1-fabb21cdbcbc",
   "metadata": {},
   "source": [
    "## 1. Handle Missing Values"
   ]
  },
  {
   "cell_type": "code",
   "execution_count": 2,
   "id": "5f6d8da4-28cf-4114-9367-813296459d9f",
   "metadata": {},
   "outputs": [
    {
     "data": {
      "text/plain": [
       "count    3.259430e+05\n",
       "mean     3.636239e+05\n",
       "std      8.301439e+05\n",
       "min      6.000000e+00\n",
       "25%      3.591000e+03\n",
       "50%      4.355100e+04\n",
       "75%      2.476915e+05\n",
       "max      3.879325e+07\n",
       "Name: post_impressions, dtype: float64"
      ]
     },
     "execution_count": 2,
     "metadata": {},
     "output_type": "execute_result"
    }
   ],
   "source": [
    "# Summary statistics for the numerical features (impressions)\n",
    "summary_statistics = parler['post_impressions'].describe()\n",
    "summary_statistics"
   ]
  },
  {
   "cell_type": "code",
   "execution_count": 3,
   "id": "1e5b8466-da33-4aaf-a179-979c1c99ef62",
   "metadata": {},
   "outputs": [
    {
     "data": {
      "text/plain": [
       "author_name              10538\n",
       "author_username          10537\n",
       "author_profile_photo     10537\n",
       "post_text                69928\n",
       "post_image              221839\n",
       "post_timestamp           10537\n",
       "post_impressions         10537\n",
       "dtype: int64"
      ]
     },
     "execution_count": 3,
     "metadata": {},
     "output_type": "execute_result"
    }
   ],
   "source": [
    "# Checking for missing values in the dataset\n",
    "missing_values_summary = parler.isnull().sum()\n",
    "missing_values_summary[missing_values_summary > 0]"
   ]
  },
  {
   "cell_type": "code",
   "execution_count": 4,
   "id": "7c564570-d737-4a25-a318-310f5cfb4b9b",
   "metadata": {},
   "outputs": [
    {
     "data": {
      "text/plain": [
       "post_image    211302\n",
       "dtype: int64"
      ]
     },
     "execution_count": 4,
     "metadata": {},
     "output_type": "execute_result"
    }
   ],
   "source": [
    "# Removing rows with missing author information\n",
    "parler = parler.dropna(subset=['author_name', 'author_username', 'author_profile_photo', 'post_timestamp'])\n",
    "\n",
    "# Filling missing post text with an empty string\n",
    "parler['post_text'] = parler['post_text'].fillna('')\n",
    "\n",
    "# Filling missing post impressions with zero\n",
    "parler['post_impressions'] = parler['post_impressions'].fillna(0)\n",
    "\n",
    "# Checking if there are still any missing values\n",
    "missing_values_after_cleaning = parler.isnull().sum()\n",
    "missing_values_after_cleaning[missing_values_after_cleaning > 0]"
   ]
  },
  {
   "cell_type": "markdown",
   "id": "1a50cd68-e379-46e8-b5ff-12782aab87f1",
   "metadata": {},
   "source": [
    "## 2. Ensure Correct Data Types"
   ]
  },
  {
   "cell_type": "code",
   "execution_count": 5,
   "id": "ff61dd9a-bf38-41c7-9d94-1604ed896168",
   "metadata": {},
   "outputs": [
    {
     "data": {
      "text/plain": [
       "author_name              object\n",
       "author_username          object\n",
       "author_profile_photo     object\n",
       "post_text                object\n",
       "post_image               object\n",
       "post_timestamp           object\n",
       "post_impressions        float64\n",
       "dtype: object"
      ]
     },
     "execution_count": 5,
     "metadata": {},
     "output_type": "execute_result"
    }
   ],
   "source": [
    "# Checking the data types of the columns\n",
    "parler.dtypes"
   ]
  },
  {
   "cell_type": "markdown",
   "id": "c5d4b3f3-3cce-465f-bad4-acc98972cf61",
   "metadata": {},
   "source": [
    "## 3. Clean Text Data"
   ]
  },
  {
   "cell_type": "code",
   "execution_count": 6,
   "id": "82ab8a7a-352b-4523-b1ec-159c146e9c6e",
   "metadata": {},
   "outputs": [
    {
     "data": {
      "text/html": [
       "<div>\n",
       "<style scoped>\n",
       "    .dataframe tbody tr th:only-of-type {\n",
       "        vertical-align: middle;\n",
       "    }\n",
       "\n",
       "    .dataframe tbody tr th {\n",
       "        vertical-align: top;\n",
       "    }\n",
       "\n",
       "    .dataframe thead th {\n",
       "        text-align: right;\n",
       "    }\n",
       "</style>\n",
       "<table border=\"1\" class=\"dataframe\">\n",
       "  <thead>\n",
       "    <tr style=\"text-align: right;\">\n",
       "      <th></th>\n",
       "      <th>author_name</th>\n",
       "      <th>author_username</th>\n",
       "      <th>author_profile_photo</th>\n",
       "      <th>post_text</th>\n",
       "      <th>post_image</th>\n",
       "      <th>post_timestamp</th>\n",
       "      <th>post_impressions</th>\n",
       "    </tr>\n",
       "  </thead>\n",
       "  <tbody>\n",
       "    <tr>\n",
       "      <th>0</th>\n",
       "      <td>Andy Ngo</td>\n",
       "      <td>@AndyNgo</td>\n",
       "      <td>https://images.parler.com/777e039d6a5341388549...</td>\n",
       "      <td>philadelphia police charged in relation to an ...</td>\n",
       "      <td>https://api.parler.com/l/GJCyQ</td>\n",
       "      <td>5 days ago</td>\n",
       "      <td>132117.0</td>\n",
       "    </tr>\n",
       "    <tr>\n",
       "      <th>1</th>\n",
       "      <td>Bill Kays</td>\n",
       "      <td>@rebootbill</td>\n",
       "      <td>https://images.parler.com/706f1c9d8b454b5f8108...</td>\n",
       "      <td></td>\n",
       "      <td>NaN</td>\n",
       "      <td>4 days ago</td>\n",
       "      <td>13.0</td>\n",
       "    </tr>\n",
       "    <tr>\n",
       "      <th>2</th>\n",
       "      <td>Flint Bedrock</td>\n",
       "      <td>@flintbedrock</td>\n",
       "      <td>https://images.parler.com/1f45e69f8ed145f9b7b0...</td>\n",
       "      <td>patriots in dc are ready for tomorrow</td>\n",
       "      <td>NaN</td>\n",
       "      <td>5 days ago</td>\n",
       "      <td>248971.0</td>\n",
       "    </tr>\n",
       "    <tr>\n",
       "      <th>3</th>\n",
       "      <td>Name Hidden</td>\n",
       "      <td>@Private User</td>\n",
       "      <td>../../company-media.parler.com/par-default-pro...</td>\n",
       "      <td>let s follow each other</td>\n",
       "      <td>https://api.parler.com/l/jB7Lz</td>\n",
       "      <td>5 days ago</td>\n",
       "      <td>9829.0</td>\n",
       "    </tr>\n",
       "    <tr>\n",
       "      <th>4</th>\n",
       "      <td>Name Hidden</td>\n",
       "      <td>@Private User</td>\n",
       "      <td>../../company-media.parler.com/par-default-pro...</td>\n",
       "      <td></td>\n",
       "      <td>../../api.parler.com/l/6Ac5M.html</td>\n",
       "      <td>5 days ago</td>\n",
       "      <td>15689.0</td>\n",
       "    </tr>\n",
       "  </tbody>\n",
       "</table>\n",
       "</div>"
      ],
      "text/plain": [
       "     author_name author_username  \\\n",
       "0       Andy Ngo        @AndyNgo   \n",
       "1      Bill Kays     @rebootbill   \n",
       "2  Flint Bedrock   @flintbedrock   \n",
       "3    Name Hidden   @Private User   \n",
       "4    Name Hidden   @Private User   \n",
       "\n",
       "                                author_profile_photo  \\\n",
       "0  https://images.parler.com/777e039d6a5341388549...   \n",
       "1  https://images.parler.com/706f1c9d8b454b5f8108...   \n",
       "2  https://images.parler.com/1f45e69f8ed145f9b7b0...   \n",
       "3  ../../company-media.parler.com/par-default-pro...   \n",
       "4  ../../company-media.parler.com/par-default-pro...   \n",
       "\n",
       "                                           post_text  \\\n",
       "0  philadelphia police charged in relation to an ...   \n",
       "1                                                      \n",
       "2              patriots in dc are ready for tomorrow   \n",
       "3                            let s follow each other   \n",
       "4                                                      \n",
       "\n",
       "                          post_image post_timestamp  post_impressions  \n",
       "0     https://api.parler.com/l/GJCyQ     5 days ago          132117.0  \n",
       "1                                NaN     4 days ago              13.0  \n",
       "2                                NaN     5 days ago          248971.0  \n",
       "3     https://api.parler.com/l/jB7Lz     5 days ago            9829.0  \n",
       "4  ../../api.parler.com/l/6Ac5M.html     5 days ago           15689.0  "
      ]
     },
     "execution_count": 6,
     "metadata": {},
     "output_type": "execute_result"
    }
   ],
   "source": [
    "# Importing the regular expression library\n",
    "import re\n",
    "\n",
    "# Function to clean text while preserving hashtags\n",
    "def clean_text_preserve_hashtags(text):\n",
    "    if pd.isnull(text):\n",
    "        return text\n",
    "    # Removing URLs\n",
    "    text = re.sub(r'http\\S+|www\\S+|https\\S+', '', text, flags=re.MULTILINE)\n",
    "    # Removing special characters except #\n",
    "    text = re.sub(r'[^\\w\\s#]', ' ', text)\n",
    "    # Removing numbers\n",
    "    text = re.sub(r'\\d', ' ', text)\n",
    "    # Removing extra spaces\n",
    "    text = re.sub(r'\\s+', ' ', text).strip()\n",
    "    # Converting to lowercase\n",
    "    text = text.lower()\n",
    "    return text\n",
    "\n",
    "# Applying the clean_text_preserve_hashtags function to the post_text column\n",
    "parler['post_text'] = parler['post_text'].apply(clean_text_preserve_hashtags)\n",
    "\n",
    "# Displaying the first few rows to verify the cleaning\n",
    "parler.head()"
   ]
  },
  {
   "cell_type": "markdown",
   "id": "49fd1d36-250b-43b1-b7c2-20bdc2d70ecf",
   "metadata": {},
   "source": [
    "## 4. Cleaning the Timestamp"
   ]
  },
  {
   "cell_type": "code",
   "execution_count": 7,
   "id": "451d11e2-6885-47fa-9ee0-fda3b0d8fb45",
   "metadata": {},
   "outputs": [
    {
     "data": {
      "text/html": [
       "<div>\n",
       "<style scoped>\n",
       "    .dataframe tbody tr th:only-of-type {\n",
       "        vertical-align: middle;\n",
       "    }\n",
       "\n",
       "    .dataframe tbody tr th {\n",
       "        vertical-align: top;\n",
       "    }\n",
       "\n",
       "    .dataframe thead th {\n",
       "        text-align: right;\n",
       "    }\n",
       "</style>\n",
       "<table border=\"1\" class=\"dataframe\">\n",
       "  <thead>\n",
       "    <tr style=\"text-align: right;\">\n",
       "      <th></th>\n",
       "      <th>author_name</th>\n",
       "      <th>author_username</th>\n",
       "      <th>author_profile_photo</th>\n",
       "      <th>post_text</th>\n",
       "      <th>post_image</th>\n",
       "      <th>post_timestamp</th>\n",
       "      <th>post_impressions</th>\n",
       "    </tr>\n",
       "  </thead>\n",
       "  <tbody>\n",
       "    <tr>\n",
       "      <th>0</th>\n",
       "      <td>Andy Ngo</td>\n",
       "      <td>@AndyNgo</td>\n",
       "      <td>https://images.parler.com/777e039d6a5341388549...</td>\n",
       "      <td>philadelphia police charged in relation to an ...</td>\n",
       "      <td>https://api.parler.com/l/GJCyQ</td>\n",
       "      <td>5</td>\n",
       "      <td>132117.0</td>\n",
       "    </tr>\n",
       "    <tr>\n",
       "      <th>1</th>\n",
       "      <td>Bill Kays</td>\n",
       "      <td>@rebootbill</td>\n",
       "      <td>https://images.parler.com/706f1c9d8b454b5f8108...</td>\n",
       "      <td></td>\n",
       "      <td>NaN</td>\n",
       "      <td>4</td>\n",
       "      <td>13.0</td>\n",
       "    </tr>\n",
       "    <tr>\n",
       "      <th>2</th>\n",
       "      <td>Flint Bedrock</td>\n",
       "      <td>@flintbedrock</td>\n",
       "      <td>https://images.parler.com/1f45e69f8ed145f9b7b0...</td>\n",
       "      <td>patriots in dc are ready for tomorrow</td>\n",
       "      <td>NaN</td>\n",
       "      <td>5</td>\n",
       "      <td>248971.0</td>\n",
       "    </tr>\n",
       "    <tr>\n",
       "      <th>3</th>\n",
       "      <td>Name Hidden</td>\n",
       "      <td>@Private User</td>\n",
       "      <td>../../company-media.parler.com/par-default-pro...</td>\n",
       "      <td>let s follow each other</td>\n",
       "      <td>https://api.parler.com/l/jB7Lz</td>\n",
       "      <td>5</td>\n",
       "      <td>9829.0</td>\n",
       "    </tr>\n",
       "    <tr>\n",
       "      <th>4</th>\n",
       "      <td>Name Hidden</td>\n",
       "      <td>@Private User</td>\n",
       "      <td>../../company-media.parler.com/par-default-pro...</td>\n",
       "      <td></td>\n",
       "      <td>../../api.parler.com/l/6Ac5M.html</td>\n",
       "      <td>5</td>\n",
       "      <td>15689.0</td>\n",
       "    </tr>\n",
       "  </tbody>\n",
       "</table>\n",
       "</div>"
      ],
      "text/plain": [
       "     author_name author_username  \\\n",
       "0       Andy Ngo        @AndyNgo   \n",
       "1      Bill Kays     @rebootbill   \n",
       "2  Flint Bedrock   @flintbedrock   \n",
       "3    Name Hidden   @Private User   \n",
       "4    Name Hidden   @Private User   \n",
       "\n",
       "                                author_profile_photo  \\\n",
       "0  https://images.parler.com/777e039d6a5341388549...   \n",
       "1  https://images.parler.com/706f1c9d8b454b5f8108...   \n",
       "2  https://images.parler.com/1f45e69f8ed145f9b7b0...   \n",
       "3  ../../company-media.parler.com/par-default-pro...   \n",
       "4  ../../company-media.parler.com/par-default-pro...   \n",
       "\n",
       "                                           post_text  \\\n",
       "0  philadelphia police charged in relation to an ...   \n",
       "1                                                      \n",
       "2              patriots in dc are ready for tomorrow   \n",
       "3                            let s follow each other   \n",
       "4                                                      \n",
       "\n",
       "                          post_image  post_timestamp  post_impressions  \n",
       "0     https://api.parler.com/l/GJCyQ               5          132117.0  \n",
       "1                                NaN               4              13.0  \n",
       "2                                NaN               5          248971.0  \n",
       "3     https://api.parler.com/l/jB7Lz               5            9829.0  \n",
       "4  ../../api.parler.com/l/6Ac5M.html               5           15689.0  "
      ]
     },
     "execution_count": 7,
     "metadata": {},
     "output_type": "execute_result"
    }
   ],
   "source": [
    "import numpy as np\n",
    "\n",
    "# Function to convert the post_timestamp into number of days\n",
    "def convert_to_days(time_str):\n",
    "    if pd.isnull(time_str):\n",
    "        return np.nan\n",
    "    if \"day\" in time_str:\n",
    "        return int(time_str.split()[0])\n",
    "    if \"week\" in time_str:\n",
    "        return int(time_str.split()[0]) * 7\n",
    "    if \"month\" in time_str:\n",
    "        return int(time_str.split()[0]) * 30\n",
    "    if \"year\" in time_str:\n",
    "        return int(time_str.split()[0]) * 365\n",
    "    return np.nan\n",
    "\n",
    "# Apply the function to the post_timestamp column\n",
    "parler['post_timestamp'] = parler['post_timestamp'].apply(convert_to_days)\n",
    "\n",
    "# Check the first few rows\n",
    "parler.head()"
   ]
  },
  {
   "cell_type": "markdown",
   "id": "f7a39e9e-6831-403a-bb02-ab3b9baa9538",
   "metadata": {},
   "source": [
    "## 5. Dealing with missing values"
   ]
  },
  {
   "cell_type": "code",
   "execution_count": 8,
   "id": "baff7f74-c262-466d-909f-eac74ed2305a",
   "metadata": {},
   "outputs": [
    {
     "data": {
      "text/plain": [
       "author_name             0\n",
       "author_username         0\n",
       "author_profile_photo    0\n",
       "post_text               0\n",
       "post_image              0\n",
       "post_timestamp          0\n",
       "post_impressions        0\n",
       "dtype: int64"
      ]
     },
     "execution_count": 8,
     "metadata": {},
     "output_type": "execute_result"
    }
   ],
   "source": [
    "# Remove rows where \"author_name\" or \"author_username\" are missing\n",
    "parler.dropna(subset=['author_name', 'author_username'], inplace=True)\n",
    "\n",
    "# Fill missing values in the \"post_text\" and \"post_image\" columns with an empty string\n",
    "parler['post_text'].fillna('', inplace=True)\n",
    "parler['post_image'].fillna('', inplace=True)\n",
    "\n",
    "# Fill missing values in the \"post_impressions\" column with 0\n",
    "parler['post_impressions'].fillna(0, inplace=True)\n",
    "\n",
    "# Check for any remaining missing values\n",
    "missing_values_summary = parler.isnull().sum()\n",
    "missing_values_summary"
   ]
  },
  {
   "cell_type": "markdown",
   "id": "1a7e2ad9-12bf-40bc-bf32-7168fdbbf516",
   "metadata": {},
   "source": [
    "## 6. Saving cleaned data"
   ]
  },
  {
   "cell_type": "code",
   "execution_count": 9,
   "id": "105486ee-2cd5-48f0-8b2b-654f11d5be41",
   "metadata": {},
   "outputs": [],
   "source": [
    "parler.to_csv('../../data/cleaned/cleaned_dataset.csv', index=False)"
   ]
  }
 ],
 "metadata": {
  "kernelspec": {
   "display_name": "fin_proj",
   "language": "python",
   "name": "fin_proj"
  },
  "language_info": {
   "codemirror_mode": {
    "name": "ipython",
    "version": 3
   },
   "file_extension": ".py",
   "mimetype": "text/x-python",
   "name": "python",
   "nbconvert_exporter": "python",
   "pygments_lexer": "ipython3",
   "version": "3.10.9"
  }
 },
 "nbformat": 4,
 "nbformat_minor": 5
}
